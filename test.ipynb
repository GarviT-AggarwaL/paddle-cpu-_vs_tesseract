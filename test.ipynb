{
 "cells": [
  {
   "cell_type": "code",
   "execution_count": 3,
   "id": "51447b78",
   "metadata": {},
   "outputs": [
    {
     "name": "stderr",
     "output_type": "stream",
     "text": [
      "\u001b[32mCreating model: ('PP-OCRv5_server_det', None)\u001b[0m\n",
      "\u001b[32mModel files already exist. Using cached files. To redownload, please delete the directory manually: `C:\\Users\\GARVIT\\.paddlex\\official_models\\PP-OCRv5_server_det`.\u001b[0m\n",
      "\u001b[32mCreating model: ('PP-OCRv5_server_rec', None)\u001b[0m\n",
      "\u001b[32mUsing official model (PP-OCRv5_server_rec), the model files will be automatically downloaded and saved in `C:\\Users\\GARVIT\\.paddlex\\official_models\\PP-OCRv5_server_rec`.\u001b[0m\n",
      "Fetching 6 files: 100%|██████████| 6/6 [00:02<00:00,  2.04it/s]\n",
      "\u001b[32m{'res': {'input_path': 'DL_103.jpg', 'page_index': None, 'model_settings': {'use_doc_preprocessor': True, 'use_textline_orientation': False}, 'doc_preprocessor_res': {'input_path': None, 'page_index': None, 'model_settings': {'use_doc_orientation_classify': False, 'use_doc_unwarping': False}, 'angle': -1}, 'dt_polys': array([[[135,  57],\n",
      "        ...,\n",
      "        [135,  96]],\n",
      "\n",
      "       ...,\n",
      "\n",
      "       [[ 72, 528],\n",
      "        ...,\n",
      "        [ 72, 562]]], shape=(18, 4, 2), dtype=int16), 'text_det_params': {'limit_side_len': 64, 'limit_type': 'min', 'thresh': 0.3, 'max_side_limit': 4000, 'box_thresh': 0.6, 'unclip_ratio': 1.5}, 'text_type': 'general', 'textline_orientation_angles': array([-1, ..., -1], shape=(18,)), 'text_rec_score_thresh': 0.0, 'return_word_box': False, 'rec_texts': ['UNION OF INDIA Driving Licence', 'e(TamilNadu)', 'DL.No.', 'TN0520200002842', 'NT', 'Date', 'of lssue', 'Valid Till', '17-03-2020', '04-07-2032', 'Date of Birth', 'BloodGroup', 'Name', '05-07-1992', '0+', 'SUDHAKARG', 'Son/Daughter/Wife of', 'GOPAL'], 'rec_scores': array([0.90450585, ..., 0.97222292], shape=(18,)), 'rec_polys': array([[[135,  57],\n",
      "        ...,\n",
      "        [135,  96]],\n",
      "\n",
      "       ...,\n",
      "\n",
      "       [[ 72, 528],\n",
      "        ...,\n",
      "        [ 72, 562]]], shape=(18, 4, 2), dtype=int16), 'rec_boxes': array([[135, ...,  96],\n",
      "       ...,\n",
      "       [ 72, ..., 562]], shape=(18, 4), dtype=int16)}}\u001b[0m\n",
      "Connecting to https://paddle-model-ecology.bj.bcebos.com/paddlex/PaddleX3.0/fonts/simfang.ttf ...\n",
      "Downloading simfang.ttf ...\n",
      "[==================================================] 100.00%\n",
      "Connecting to https://paddle-model-ecology.bj.bcebos.com/paddlex/PaddleX3.0/fonts/PingFang-SC-Regular.ttf ...\n",
      "Downloading PingFang-SC-Regular.ttf ...\n",
      "[==================================================] 100.00%\n"
     ]
    }
   ],
   "source": [
    "from paddleocr import PaddleOCR\n",
    "\n",
    "ocr = PaddleOCR(\n",
    "    use_doc_orientation_classify=False, \n",
    "    use_doc_unwarping=False, \n",
    "    use_textline_orientation=False) # text detection + text recognition\n",
    "# ocr = PaddleOCR(use_doc_orientation_classify=True, use_doc_unwarping=True) # text image preprocessing + text detection + textline orientation classification + text recognition\n",
    "# ocr = PaddleOCR(use_doc_orientation_classify=False, use_doc_unwarping=False) # text detection + textline orientation classification + text recognition\n",
    "# ocr = PaddleOCR(\n",
    "#     text_detection_model_name=\"PP-OCRv5_mobile_det\",\n",
    "#     text_recognition_model_name=\"PP-OCRv5_mobile_rec\",\n",
    "#     use_doc_orientation_classify=False,\n",
    "#     use_doc_unwarping=False,\n",
    "#     use_textline_orientation=False) # Switch to PP-OCRv5_mobile models\n",
    "result = ocr.predict(\"DL_103.jpg\")\n",
    "for res in result:\n",
    "    res.print()\n",
    "    res.save_to_img(\"output\")\n",
    "    res.save_to_json(\"output\")"
   ]
  },
  {
   "cell_type": "code",
   "execution_count": 4,
   "id": "aef04d2e",
   "metadata": {},
   "outputs": [
    {
     "name": "stderr",
     "output_type": "stream",
     "text": [
      "\u001b[32mModel files already exist. Using cached files. To redownload, please delete the directory manually: `C:\\Users\\GARVIT\\.paddlex\\official_models\\PP-OCRv5_server_rec`.\u001b[0m\n",
      "\u001b[32m{'res': {'input_path': 'DL_103.jpg', 'page_index': None, 'rec_text': '', 'rec_score': 0.0}}\u001b[0m\n"
     ]
    }
   ],
   "source": [
    "from paddleocr import TextRecognition\n",
    "\n",
    "model = TextRecognition()\n",
    "output = model.predict(input=\"DL_103.jpg\")\n",
    "for res in output:\n",
    "    res.print()\n",
    "    res.save_to_img(save_path=\"./output/\")\n",
    "    res.save_to_json(save_path=\"./output/res.json\")"
   ]
  },
  {
   "cell_type": "code",
   "execution_count": 6,
   "id": "2ab9cbb9",
   "metadata": {},
   "outputs": [
    {
     "name": "stderr",
     "output_type": "stream",
     "text": [
      "\u001b[32mCreating model: ('PP-OCRv5_server_det', None)\u001b[0m\n",
      "\u001b[32mModel files already exist. Using cached files. To redownload, please delete the directory manually: `C:\\Users\\GARVIT\\.paddlex\\official_models\\PP-OCRv5_server_det`.\u001b[0m\n"
     ]
    },
    {
     "name": "stderr",
     "output_type": "stream",
     "text": [
      "\u001b[32mCreating model: ('PP-OCRv5_server_rec', None)\u001b[0m\n",
      "\u001b[32mModel files already exist. Using cached files. To redownload, please delete the directory manually: `C:\\Users\\GARVIT\\.paddlex\\official_models\\PP-OCRv5_server_rec`.\u001b[0m\n",
      "\u001b[32m{'res': {'input_path': 'aadhar_23.jpg', 'page_index': None, 'model_settings': {'use_doc_preprocessor': True, 'use_textline_orientation': False}, 'doc_preprocessor_res': {'input_path': None, 'page_index': None, 'model_settings': {'use_doc_orientation_classify': False, 'use_doc_unwarping': False}, 'angle': -1}, 'dt_polys': array([[[ 513,   83],\n",
      "        ...,\n",
      "        [ 513,  120]],\n",
      "\n",
      "       ...,\n",
      "\n",
      "       [[  49,  931],\n",
      "        ...,\n",
      "        [  50, 1004]]], shape=(12, 4, 2), dtype=int16), 'text_det_params': {'limit_side_len': 64, 'limit_type': 'min', 'thresh': 0.3, 'max_side_limit': 4000, 'box_thresh': 0.6, 'unclip_ratio': 1.5}, 'text_type': 'general', 'textline_orientation_angles': array([-1, ..., -1], shape=(12,)), 'text_rec_score_thresh': 0.0, 'return_word_box': False, 'rec_texts': [' a', 'Government of India', '香', 'Download Date: 04/02/2021', '', 'Jeyandhi Sivashanmugaraj', 'Issue Date: 28/12/2020', '/DOB: 02/09/1975', 'GUT/FEMALE', '460580335180', 'VID:9139488356972838', '60TS6oTg ILD'], 'rec_scores': array([0.49757576, ..., 0.39838862], shape=(12,)), 'rec_polys': array([[[ 513,   83],\n",
      "        ...,\n",
      "        [ 513,  120]],\n",
      "\n",
      "       ...,\n",
      "\n",
      "       [[  49,  931],\n",
      "        ...,\n",
      "        [  50, 1004]]], shape=(12, 4, 2), dtype=int16), 'rec_boxes': array([[ 513, ...,  122],\n",
      "       ...,\n",
      "       [  49, ..., 1004]], shape=(12, 4), dtype=int16)}}\u001b[0m\n"
     ]
    }
   ],
   "source": [
    "from paddleocr import PaddleOCR\n",
    "ocr = PaddleOCR(\n",
    "    use_doc_orientation_classify=False, \n",
    "    use_doc_unwarping=False, \n",
    "    use_textline_orientation=False) # text detection + text recognition\n",
    "result = ocr.predict(\"aadhar_23.jpg\")\n",
    "for res in result:\n",
    "    res.print()\n",
    "    res.save_to_img(\"output_aadhar\")\n",
    "    res.save_to_json(\"output_aadhar\")\n",
    "   "
   ]
  },
  {
   "cell_type": "code",
   "execution_count": 7,
   "id": "21258f3b",
   "metadata": {},
   "outputs": [
    {
     "name": "stderr",
     "output_type": "stream",
     "text": [
      "\u001b[32mCreating model: ('PP-OCRv5_server_det', None)\u001b[0m\n",
      "\u001b[32mModel files already exist. Using cached files. To redownload, please delete the directory manually: `C:\\Users\\GARVIT\\.paddlex\\official_models\\PP-OCRv5_server_det`.\u001b[0m\n",
      "\u001b[32mCreating model: ('PP-OCRv5_server_rec', None)\u001b[0m\n",
      "\u001b[32mModel files already exist. Using cached files. To redownload, please delete the directory manually: `C:\\Users\\GARVIT\\.paddlex\\official_models\\PP-OCRv5_server_rec`.\u001b[0m\n",
      "\u001b[32m{'res': {'input_path': 'test1 (29).jpg', 'page_index': None, 'model_settings': {'use_doc_preprocessor': True, 'use_textline_orientation': False}, 'doc_preprocessor_res': {'input_path': None, 'page_index': None, 'model_settings': {'use_doc_orientation_classify': False, 'use_doc_unwarping': False}, 'angle': -1}, 'dt_polys': array([[[  62,  271],\n",
      "        ...,\n",
      "        [ 178,  506]],\n",
      "\n",
      "       ...,\n",
      "\n",
      "       [[ 269, 1579],\n",
      "        ...,\n",
      "        [ 272, 1627]]], shape=(19, 4, 2), dtype=int16), 'text_det_params': {'limit_side_len': 64, 'limit_type': 'min', 'thresh': 0.3, 'max_side_limit': 4000, 'box_thresh': 0.6, 'unclip_ratio': 1.5}, 'text_type': 'general', 'textline_orientation_angles': array([-1, ..., -1], shape=(19,)), 'text_rec_score_thresh': 0.0, 'return_word_box': False, 'rec_texts': ['福', 'HRA', 'RR', 'famai', 'aneay', 'GOVT.OFINDIA', 'INCOMETAX DEPARTMENT', 'pad ig wi wr', 'Permanent Account Number Card', 'DOMPP4270J', '', '(Nae', 'RANJIT PANDA', 'r  IFthrsName', 'GURUCHARAH PANDA', '', 'D ', 'gr /Signature', '01/01/1963'], 'rec_scores': array([0.13057454, ..., 0.97433835], shape=(19,)), 'rec_polys': array([[[  62,  271],\n",
      "        ...,\n",
      "        [ 178,  506]],\n",
      "\n",
      "       ...,\n",
      "\n",
      "       [[ 269, 1579],\n",
      "        ...,\n",
      "        [ 272, 1627]]], shape=(19, 4, 2), dtype=int16), 'rec_boxes': array([[  62, ...,  506],\n",
      "       ...,\n",
      "       [ 269, ..., 1627]], shape=(19, 4), dtype=int16)}}\u001b[0m\n"
     ]
    }
   ],
   "source": [
    "from paddleocr import PaddleOCR\n",
    "ocr = PaddleOCR(\n",
    "    use_doc_orientation_classify=False, \n",
    "    use_doc_unwarping=False, \n",
    "    use_textline_orientation=False) # text detection + text recognition\n",
    "result = ocr.predict(\"test1 (29).jpg\")\n",
    "for res in result:\n",
    "    res.print()\n",
    "    res.save_to_img(\"output_pan\")\n",
    "    res.save_to_json(\"output_pan\")\n",
    "   "
   ]
  },
  {
   "cell_type": "code",
   "execution_count": 1,
   "id": "ec37dd72",
   "metadata": {},
   "outputs": [
    {
     "name": "stdout",
     "output_type": "stream",
     "text": [
      "Extracted text:\n",
      " QHHw STFTMIsD\n",
      "\n",
      "= are ad a\n",
      "\n",
      "UslGeu_@ erewt/ Enrolment No.: 1569/31157/00215\n",
      "\n",
      "To\n",
      "\n",
      "& YaiGereveutil\n",
      "\n",
      "K Bhuvaneswani\n",
      "W/O Palanisamy\n",
      "54/G2\n",
      "\n",
      "Anna Street\n",
      "Karamadai\n",
      "\n",
      "Boy Complex\n",
      "Karamadai\n",
      "Karamadai\n",
      "Coimbatore Tamil Nadu - 641104\n",
      "9790333603\n",
      "\n",
      "6TOZ/Z0/8z :83e8q peojumog\n",
      "\n",
      "o\n",
      "®\n",
      "3\n",
      "g\n",
      "=a\n",
      "c=]\n",
      "sa\n",
      "i]\n",
      "ES\n",
      "bd\n",
      "N\n",
      "=\n",
      "eB\n",
      "Ss\n",
      "NS\n",
      "=)\n",
      "r=)\n",
      "N\n",
      "\n",
      "Signatureyalid\n",
      "UNiaus i TION\n",
      "AUTHO! INDIA 03\n",
      "Date: 2019. 11:04:34\n",
      "IST\n",
      "\n",
      "6T6o0r / Your\n",
      "\n",
      "7981 2027 5152\n",
      "\n",
      "VID : 9109 7512 0643 0035\n",
      "» TOHH) DML wWiITetD\n",
      "\n",
      "ydesBoyoyd yw apoD HO\n",
      "\n",
      "OpHwus sysenhsd\n",
      "Government of India\n",
      "\n",
      "& UeuGereveuril\n",
      "K Bhuvaneswari\n",
      "\n",
      "L915 Brat/DOB: 02/05/1970\n",
      "Queir/ FEMALE\n",
      "\n",
      "7981 2027 5152\n",
      "\n",
      "VID : 9109 7512 06430035 rap iinae\n",
      "» STEOTS| Di6EML_usmen._D\n",
      "\n",
      "SHOT ON POC QMEA\n",
      "\n",
      "\n"
     ]
    }
   ],
   "source": [
    "import pytesseract\n",
    "from PIL import Image\n",
    "\n",
    "# If Tesseract is in PATH, no need to set tesseract_cmd\n",
    "# If not, uncomment and set the path manually:\n",
    "# pytesseract.pytesseract.tesseract_cmd = r\"C:\\Program Files\\Tesseract-OCR\\tesseract.exe\"\n",
    "\n",
    "# Test on an image\n",
    "text = pytesseract.image_to_string(Image.open(\"./dataset/aadhar (2).jpg\"))\n",
    "print(\"Extracted text:\\n\", text)\n"
   ]
  },
  {
   "cell_type": "code",
   "execution_count": 4,
   "id": "4ef7b5b8",
   "metadata": {},
   "outputs": [
    {
     "name": "stdout",
     "output_type": "stream",
     "text": [
      "✅ Annotated image saved at annotated_test1.jpg\n"
     ]
    }
   ],
   "source": [
    "import cv2\n",
    "import pytesseract\n",
    "from PIL import Image\n",
    "\n",
    "# Path to your image\n",
    "image_path = \"./dataset/aadhar (2).jpg\"\n",
    "output_path = \"annotated_test1.jpg\"\n",
    "\n",
    "# Read image with OpenCV\n",
    "img = cv2.imread(image_path)\n",
    "h, w, _ = img.shape\n",
    "\n",
    "# Get word-level data from Tesseract\n",
    "data = pytesseract.image_to_data(img, output_type=pytesseract.Output.DICT)\n",
    "\n",
    "# Loop through each detected word\n",
    "n_boxes = len(data['level'])\n",
    "for i in range(n_boxes):\n",
    "    (x, y, width, height) = (data['left'][i], data['top'][i], data['width'][i], data['height'][i])\n",
    "    text = data['text'][i]\n",
    "\n",
    "    if text.strip() != \"\":  # Only draw if text is not empty\n",
    "        # Draw rectangle\n",
    "        cv2.rectangle(img, (x, y), (x + width, y + height), (0, 255, 0), 2)\n",
    "        # Put recognized text\n",
    "        cv2.putText(img, text, (x, y - 5), cv2.FONT_HERSHEY_SIMPLEX, 0.5, (0, 0, 255), 1)\n",
    "\n",
    "# Save annotated image\n",
    "cv2.imwrite(output_path, img)\n",
    "print(f\"✅ Annotated image saved at {output_path}\")\n"
   ]
  },
  {
   "cell_type": "code",
   "execution_count": 2,
   "id": "51d483b0",
   "metadata": {},
   "outputs": [
    {
     "name": "stderr",
     "output_type": "stream",
     "text": [
      "\u001b[32mCreating model: ('PP-OCRv5_server_det', None)\u001b[0m\n",
      "\u001b[32mModel files already exist. Using cached files. To redownload, please delete the directory manually: `C:\\Users\\GARVIT\\.paddlex\\official_models\\PP-OCRv5_server_det`.\u001b[0m\n",
      "\u001b[32mCreating model: ('PP-OCRv5_server_rec', None)\u001b[0m\n",
      "\u001b[32mModel files already exist. Using cached files. To redownload, please delete the directory manually: `C:\\Users\\GARVIT\\.paddlex\\official_models\\PP-OCRv5_server_rec`.\u001b[0m\n"
     ]
    },
    {
     "name": "stdout",
     "output_type": "stream",
     "text": [
      "PaddleOCR processed 9 images in 294.93 seconds\n",
      "PaddleOCR: 294.93 sec\n"
     ]
    }
   ],
   "source": [
    "import os\n",
    "import time\n",
    "from paddleocr import PaddleOCR\n",
    "image_folder = \"./new_dataset\"\n",
    "image_files = [f for f in os.listdir(image_folder) if f.lower().endswith((\".jpg\", \".png\", \".jpeg\"))]\n",
    "ocr = PaddleOCR(\n",
    "    use_doc_orientation_classify=False,\n",
    "    use_doc_unwarping=False,\n",
    "    use_textline_orientation=False\n",
    ")\n",
    "\n",
    "start_time = time.time()\n",
    "for filename in image_files:\n",
    "    image_path = os.path.join(image_folder, filename)\n",
    "    _ = ocr.predict(image_path)  # run OCR\n",
    "paddle_time = time.time() - start_time\n",
    "print(f\"PaddleOCR processed {len(image_files)} images in {paddle_time:.2f} seconds\")\n",
    "print(f\"PaddleOCR: {paddle_time:.2f} sec\")\n"
   ]
  }
 ],
 "metadata": {
  "kernelspec": {
   "display_name": "myenv",
   "language": "python",
   "name": "python3"
  },
  "language_info": {
   "codemirror_mode": {
    "name": "ipython",
    "version": 3
   },
   "file_extension": ".py",
   "mimetype": "text/x-python",
   "name": "python",
   "nbconvert_exporter": "python",
   "pygments_lexer": "ipython3",
   "version": "3.11.13"
  }
 },
 "nbformat": 4,
 "nbformat_minor": 5
}
